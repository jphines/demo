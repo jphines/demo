{
 "metadata": {
  "name": "",
  "signature": "sha256:8897ba85cb037143d30f5df82cc3ed1b7ddd48df897a8d6a2b0d3a3936b30bb9"
 },
 "nbformat": 3,
 "nbformat_minor": 0,
 "worksheets": [
  {
   "cells": [
    {
     "cell_type": "heading",
     "level": 2,
     "metadata": {},
     "source": [
      "Solving Contextual Bandit problems using LinUSB"
     ]
    },
    {
     "cell_type": "markdown",
     "metadata": {},
     "source": [
      "A contextual bandit problem is a subset of the full reinforcement learning problem. There is context vector $X_i$ attached to each choice, but no state or state transitions that can be predicted. It's assumed that the contexts are IID.\n",
      "\n",
      "The tradeoff between exploration and exploitation is central to bandit problems. The simplest algorithm to decide whether to try out something new or go with what you know yelds the best reward is known as greedy-epsilon algorithm, where a certain percentage is devoted to exploration.\n",
      "\n",
      "However an improvement in effeciency can be gained by using an estimation of variance to quantify how much we do not know about a choice. In contextual problems we have variance along each dimension of $D$, for each arm."
     ]
    },
    {
     "cell_type": "heading",
     "level": 2,
     "metadata": {},
     "source": [
      "Upper Confidence Bound methods."
     ]
    },
    {
     "cell_type": "markdown",
     "metadata": {},
     "source": [
      "\n",
      "\n",
      "For each action we may maintain an expected value, which we assume to be normally distributed, therefore we can also estimate a confidence interval based on the data we have.\n",
      "\n",
      "By having our algorithm choose the highest of all the actions' confidence intervals (say 0.95), we cerate a smooth transition between learning and exploiting. This is the essence of a UCB method. It's easy to demonstrate in one dimension with 2 arms."
     ]
    },
    {
     "cell_type": "code",
     "collapsed": false,
     "input": [
      "import matplotlib as mpl\n",
      "A=np.array([[ 0.70558142,  0.86273594],\n",
      "       [ 0.68797076,  0.02774431],\n",
      "       [ 0.11372903,  0.38687036],\n",
      "       [ 0.43072205,  0.54141448],\n",
      "       [ 0.39529217,  0.91495635],\n",
      "       [ 0.39027663,  0.95704016],\n",
      "       [ 0.5450535,  0.02473527],\n",
      "       [ 0.12265648,  0.88966732],\n",
      "       [ 0.59852203,  0.28636077],\n",
      "       [ 0.85040799,  0.04557076],\n",
      "       [ 0.56896747,  0.89559782],\n",
      "       [ 0.85425338,  0.01838715],\n",
      "       [ 0.80782139,  0.17350079]])\n",
      "plt.boxplot(A);"
     ],
     "language": "python",
     "metadata": {},
     "outputs": [
      {
       "metadata": {},
       "output_type": "display_data",
       "png": "[encoded data removed]",
       "text": [
        "<matplotlib.figure.Figure at 0x10d3cac90>"
       ]
      }
     ],
     "prompt_number": 352
    },
    {
     "cell_type": "markdown",
     "metadata": {},
     "source": [
      "This boxplot is just a quick visual proxy, but let's calculate mean and s.d. of each arm. However, if we take the mean + 3 standard deviations up as the number which helps us select which arm to pull, we combine expected valuea and uncertainty in one metric"
     ]
    },
    {
     "cell_type": "code",
     "collapsed": false,
     "input": [
      "a_mu=np.mean(A,axis=0)\n",
      "a_sig=np.std(A,axis=0)\n",
      "a_upper_ci=a_mu + (3 * a_sig)\n",
      "a_upper_ci"
     ],
     "language": "python",
     "metadata": {},
     "outputs": [
      {
       "metadata": {},
       "output_type": "pyout",
       "prompt_number": 340,
       "text": [
        "array([ 1.22089676,  1.48922823])"
       ]
      }
     ],
     "prompt_number": 340
    },
    {
     "cell_type": "markdown",
     "metadata": {},
     "source": [
      "In this case, we choose arm 2. After a while, our mean will settle down and the deviation will shrink as $1/\\sqrt{n_a}$ and we may eventually choose 1."
     ]
    },
    {
     "cell_type": "heading",
     "level": 4,
     "metadata": {},
     "source": [
      "Adding the context Vector"
     ]
    },
    {
     "cell_type": "markdown",
     "metadata": {},
     "source": [
      "When we add in context, we expand the problem space of the multi armed bandid significantly. Naively, we might treat all unique combinations of context as seperate problems. However, it's unlikely we'll ever get enough data for that. Instead we assume that the expected value of an arm is some linear combination of the context $x_i$. In this sense we are performing an online regression for each possible action, conditional on the context. However in this case we only get to see results for the chosen action, so we can only improve one estimate at a time. This is called the *disjoint* LinearUSB formulation. Thus we are trying to estimate $\\theta_a$ for each action $a$, and the expected value = $x_i^T \\theta_a$"
     ]
    },
    {
     "cell_type": "heading",
     "level": 3,
     "metadata": {},
     "source": [
      "Creating the synthetic data"
     ]
    },
    {
     "cell_type": "markdown",
     "metadata": {},
     "source": [
      "Let's create some idealized synthetic data, and then some random $\\theta_a$. Assume 30 features and 8 possible actions."
     ]
    },
    {
     "cell_type": "code",
     "collapsed": false,
     "input": [
      "import numpy as np\n",
      "n=5000  # number of data points\n",
      "k=30   # number of features\n",
      "n_a=8  # number of actions\n",
      "\n",
      "D=np.random.random( (n,k))-0.5            # our data\n",
      "th=np.random.random( (n_a,k) ) - 0.5      # our real theta, what we will try to guess/"
     ],
     "language": "python",
     "metadata": {},
     "outputs": [],
     "prompt_number": 372
    },
    {
     "cell_type": "markdown",
     "metadata": {},
     "source": [
      "Each action yelds a reward. In this case, a success probability. We get maximum reward when we always choose the best action. Since there's no state, we can precompute the best actions ahead of time. Here is the distribution of optimal arms."
     ]
    },
    {
     "cell_type": "code",
     "collapsed": false,
     "input": [
      "P=D.dot(th.T)\n",
      "\n",
      "import matplotlib.pyplot as plt\n",
      "optimal=np.array(P.argmax(axis=1), dtype=int)\n",
      "plt.hist(optimal,bins=range(0,n_a));\n",
      "\n"
     ],
     "language": "python",
     "metadata": {},
     "outputs": [
      {
       "metadata": {},
       "output_type": "display_data",
       "png": "[encoded data removed]",
       "text": [
        "<matplotlib.figure.Figure at 0x108ef7a10>"
       ]
      }
     ],
     "prompt_number": 373
    },
    {
     "cell_type": "markdown",
     "metadata": {},
     "source": [
      "This is a histogram of the best choices in each case.  \n",
      "\n",
      "Let's solve this with the LinUSB algorithm, from http://www.research.rutgers.edu/~lihong/pub/Li10Contextual.pdf\n",
      "\n",
      "LinUCB uses the same highest C.I. bound princible as above, but in a multidimensinal setting. We maintain, for each arm, a running mean and running covariance matrix. For each new data point, we pass the context vector $x_i$ through the covariance matrix to come up with an estimate of how much value the new information is.\n",
      "\n",
      "To simplify let's assume that all our feature vectors are independent, and thus we have a covariance matrix which is close to diagonal. Passing $x_i$ through it $x_i \\Sigma^{-1} x_i$ now just becomes $\\sum_{d \\in D} (x_d \\sigma_d)^2 $. ie, it's a sum of the squared variances, weighted by the magnitude of each component in our new data point.\n",
      "\n",
      "<code>\n",
      "p[a]       = a_mean + a_upper_ci\n",
      "</code>\n",
      "\n",
      "If the new data point has a strong signal along a dimension we know little about, the aggregate score will be high and we will be more likely to explore.\n",
      "\n",
      "Using a tuning parameter $\\alpha$, we can adjust our explore/exploit ratio, just like greedy-epsilon.\n"
     ]
    },
    {
     "cell_type": "heading",
     "level": 2,
     "metadata": {},
     "source": [
      "The LinUCB implementation"
     ]
    },
    {
     "cell_type": "code",
     "collapsed": false,
     "input": [
      "eps=0.2\n",
      "\n",
      "choices=np.zeros(n)\n",
      "rewards=np.zeros(n)\n",
      "explore=np.zeros(n)\n",
      "norms  =np.zeros(n)\n",
      "b      =np.zeros_like(th)\n",
      "A      =np.zeros( (n_a, k,k)  )\n",
      "for a in range (0,n_a):\n",
      "    A[a]=np.identity(k)\n",
      "th_hat =np.zeros_like(th) # our temporary feature vectors, our best current guesses\n",
      "p      =np.zeros(n_a)\n",
      "alph   =0.2\n",
      "\n",
      "\n",
      "# LinUCB, using a disjoint model\n",
      "# This is all from Algorithm 1, p 664, \"A contextual bandit approach...\" Li, Langford\n",
      "for i in range(0,n):\n",
      " \n",
      "    x_i = D[i]   # the current context vector\n",
      "    \n",
      "    for a in range (0,n_a):\n",
      "        A_inv      = np.linalg.inv(A[a])        # we use it twice so cache it\n",
      "        th_hat[a]  = A_inv.dot(b[a])            # Line 5\n",
      "        ta         = x_i.dot(A_inv).dot(x_i)    # how informative is this ?\n",
      "        a_upper_ci = alph * np.sqrt(ta)         # upper part of variance interval\n",
      "        a_mean     = th_hat[a].dot(x_i)         # current estimate of mean\n",
      "        p[a]       = a_mean + a_upper_ci        # top CI\n",
      "      \n",
      "      \n",
      "    norms[i]       = np.linalg.norm(th_hat - th,'fro')    # diagnostic, are we converging ?\n",
      "    \n",
      "    # Let's not be biased with tiebreaks, but add in some random noise\n",
      "    p= p + ( np.random.random(len(p)) * 0.000001)\n",
      "    choices[i] = p.argmax()   # choose the highest, line 11\n",
      "    \n",
      "    # see what kind of result we get\n",
      "    \n",
      "    rewards[i] = th[choices[i]].dot(x_i)  # using actual theta to figure out reward\n",
      "   \n",
      "    # update the input vector\n",
      "    A[choices[i]]      += np.outer(x_i,x_i)\n",
      "    b[choices[i]]      += rewards[i] * x_i\n",
      "    \n",
      "    "
     ],
     "language": "python",
     "metadata": {},
     "outputs": [],
     "prompt_number": 356
    },
    {
     "cell_type": "code",
     "collapsed": false,
     "input": [
      "plt.figure(1,figsize=(10,5))\n",
      "plt.subplot(121)\n",
      "plt.plot(norms);\n",
      "plt.title(\"Frobenius norm of estimated theta vs actual\");\n",
      "\n",
      "regret=(P.max(axis=1) - rewards)\n",
      "plt.subplot(122)\n",
      "plt.plot(regret.cumsum())\n",
      "plt.title(\"Cumulative Regret\");"
     ],
     "language": "python",
     "metadata": {},
     "outputs": [
      {
       "metadata": {},
       "output_type": "display_data",
       "png": "[encoded data removed]",
       "text": [
        "<matplotlib.figure.Figure at 0x108f3f5d0>"
       ]
      }
     ],
     "prompt_number": 371
    },
    {
     "cell_type": "markdown",
     "metadata": {},
     "source": [
      "The two plots above show how how we converge to the true linear model parameters, and how much it cost us along the way."
     ]
    },
    {
     "cell_type": "heading",
     "level": 2,
     "metadata": {},
     "source": [
      "Hybrid Models"
     ]
    },
    {
     "cell_type": "markdown",
     "metadata": {},
     "source": [
      "I didn't code it up, but it's a good bet that there will be features that are common to all arms, which we need to know howo to interpret. For example, if we classify articles into course categories, then information about one article should transfer to another. To take these into account, we can add another term and another set of coefficients:\n",
      "\n",
      "$\\beta^T z_i$\n",
      "\n",
      "Which we update regardless of what arm we pick."
     ]
    },
    {
     "cell_type": "heading",
     "level": 2,
     "metadata": {},
     "source": [
      "Taking this to production..."
     ]
    },
    {
     "cell_type": "markdown",
     "metadata": {},
     "source": [
      "I'm just going to muse a bit about how we would take something like this into prod. \n",
      "\n",
      "**Can we have multiple boxes serve different requests, so we have load balancing and decentralization  ?** \n",
      "\n",
      "Yes. Since the A and b variables above are only added to, we can read off the logs of each box into a cumulative A and b in shared memory or offline in batch, then distribute them back periodically. The loss of accuracy as a result just leads to some  extra exploration vs the single box but this only aids convergence. After Each box would then use pooled information for all models. Optionally each box can add to it's own A and b until the next update.\n",
      "\n",
      "**Can we train up the models off line and avoid a cold start ?**\n",
      "\n",
      "I think so. In the algorithm above we choose our initial means as (0,0...,0). We can get a closer estimate by just running a regression over previous data. Even if it's jsut similar data (different articles and users, but there will be some features such as article topic that carry over) it's better than starting from 0. It will be very biased toward whatever chose articles before, but I'll take a biased initial estimate over a random one if we have a convex decision surface, which our linear model guarantees.\n",
      "\n",
      "Also, in the paper they made the point that if you run a test with random bandit choices, you can use this to score your own algorithm offline, probably useful for feature selection, since the rewarded also be randomly distributed. I put in a request with Yahoo Labs to get the original data. Bay\n",
      "\n",
      "**What to use ?** \n",
      "\n",
      "I haven't used it but this seems like Storm's use case in a nutshell. However we could even just publish matrices periodically off of a batch mapreduce or Spark job. It depends on how often articles change. Storm would be more responsive, clearly.\n"
     ]
    }
   ],
   "metadata": {}
  }
 ]
}