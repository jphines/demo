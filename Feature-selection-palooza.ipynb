{
 "metadata": {
  "name": "",
  "signature": "sha256:b35e26f8cd52676b9fbeedb0d43a4457a30e627a5383b546ad97b8b706a1d6f4"
 },
 "nbformat": 3,
 "nbformat_minor": 0,
 "worksheets": [
  {
   "cells": [
    {
     "cell_type": "markdown",
     "metadata": {},
     "source": [
      "Christopher:\n",
      "\n",
      "I wanted to follow up about the discussion for feature selection with a little more material.  I thought about it some more.\n",
      "\n",
      "If I recall correctly, we were talking about variable selection for a predictive churn model with a binary response.\n",
      "\n",
      "There are two approaches. \n",
      "\n",
      "1. Some classification methods return to us variable importance as a result of the method itself. We can just use the implied ranking and pick the best-k\n",
      "\n",
      "2. Any method which can predict also serves as a vehicle for a subset selection scheme. If the number of predictors is small, we can\n",
      "  * search the whole space of predictor combinations with our desired $k$. \n",
      "  * Othewise we can use stepwise regression, where we search trough remaining variables and add the one that most improves our accuracy. Rince, repeat, stop when you reach your desired $k$.\n",
      "\n",
      "[This paper](http://www.nesug.org/proceedings/nesug07/sa/sa07.pdf) from SAS which basically says use LASSO. However, Random Forest feature importance (explained below) has become more utilized, and the medhod I mentioned  [Boruta](https://m2.icm.edu.pl/boruta/) builds even on top of forest by trying out many many permutations in a kind of \"feature bootstrapping\". \n",
      "\n",
      "* note this is somewhat based on YHat's tutorial using the same data. They used k-means to cluster instead of LASSO."
     ]
    },
    {
     "cell_type": "code",
     "collapsed": false,
     "input": [
      "import pandas as pd\n",
      "import numpy as np\n",
      "from sklearn import preprocessing, metrics, cross_validation, feature_selection, linear_model, svm,tree\n",
      "\n",
      "XOrig=pd.read_csv(\"https://raw.githubusercontent.com/EricChiang/churn/master/data/churn.csv\")\n",
      "# Some transfomatio and normalization \n",
      "XOrig.head()"
     ],
     "language": "python",
     "metadata": {},
     "outputs": [
      {
       "html": [
        "<div style=\"max-height:1000px;max-width:1500px;overflow:auto;\">\n",
        "<table border=\"1\" class=\"dataframe\">\n",
        "  <thead>\n",
        "    <tr style=\"text-align: right;\">\n",
        "      <th></th>\n",
        "      <th>State</th>\n",
        "      <th>Account Length</th>\n",
        "      <th>Area Code</th>\n",
        "      <th>Phone</th>\n",
        "      <th>Int'l Plan</th>\n",
        "      <th>VMail Plan</th>\n",
        "      <th>VMail Message</th>\n",
        "      <th>Day Mins</th>\n",
        "      <th>Day Calls</th>\n",
        "      <th>Day Charge</th>\n",
        "      <th>...</th>\n",
        "      <th>Eve Calls</th>\n",
        "      <th>Eve Charge</th>\n",
        "      <th>Night Mins</th>\n",
        "      <th>Night Calls</th>\n",
        "      <th>Night Charge</th>\n",
        "      <th>Intl Mins</th>\n",
        "      <th>Intl Calls</th>\n",
        "      <th>Intl Charge</th>\n",
        "      <th>CustServ Calls</th>\n",
        "      <th>Churn?</th>\n",
        "    </tr>\n",
        "  </thead>\n",
        "  <tbody>\n",
        "    <tr>\n",
        "      <th>0</th>\n",
        "      <td> KS</td>\n",
        "      <td> 128</td>\n",
        "      <td> 415</td>\n",
        "      <td> 382-4657</td>\n",
        "      <td>  no</td>\n",
        "      <td> yes</td>\n",
        "      <td> 25</td>\n",
        "      <td> 265.1</td>\n",
        "      <td> 110</td>\n",
        "      <td> 45.07</td>\n",
        "      <td>...</td>\n",
        "      <td>  99</td>\n",
        "      <td> 16.78</td>\n",
        "      <td> 244.7</td>\n",
        "      <td>  91</td>\n",
        "      <td> 11.01</td>\n",
        "      <td> 10.0</td>\n",
        "      <td> 3</td>\n",
        "      <td> 2.70</td>\n",
        "      <td> 1</td>\n",
        "      <td> False.</td>\n",
        "    </tr>\n",
        "    <tr>\n",
        "      <th>1</th>\n",
        "      <td> OH</td>\n",
        "      <td> 107</td>\n",
        "      <td> 415</td>\n",
        "      <td> 371-7191</td>\n",
        "      <td>  no</td>\n",
        "      <td> yes</td>\n",
        "      <td> 26</td>\n",
        "      <td> 161.6</td>\n",
        "      <td> 123</td>\n",
        "      <td> 27.47</td>\n",
        "      <td>...</td>\n",
        "      <td> 103</td>\n",
        "      <td> 16.62</td>\n",
        "      <td> 254.4</td>\n",
        "      <td> 103</td>\n",
        "      <td> 11.45</td>\n",
        "      <td> 13.7</td>\n",
        "      <td> 3</td>\n",
        "      <td> 3.70</td>\n",
        "      <td> 1</td>\n",
        "      <td> False.</td>\n",
        "    </tr>\n",
        "    <tr>\n",
        "      <th>2</th>\n",
        "      <td> NJ</td>\n",
        "      <td> 137</td>\n",
        "      <td> 415</td>\n",
        "      <td> 358-1921</td>\n",
        "      <td>  no</td>\n",
        "      <td>  no</td>\n",
        "      <td>  0</td>\n",
        "      <td> 243.4</td>\n",
        "      <td> 114</td>\n",
        "      <td> 41.38</td>\n",
        "      <td>...</td>\n",
        "      <td> 110</td>\n",
        "      <td> 10.30</td>\n",
        "      <td> 162.6</td>\n",
        "      <td> 104</td>\n",
        "      <td>  7.32</td>\n",
        "      <td> 12.2</td>\n",
        "      <td> 5</td>\n",
        "      <td> 3.29</td>\n",
        "      <td> 0</td>\n",
        "      <td> False.</td>\n",
        "    </tr>\n",
        "    <tr>\n",
        "      <th>3</th>\n",
        "      <td> OH</td>\n",
        "      <td>  84</td>\n",
        "      <td> 408</td>\n",
        "      <td> 375-9999</td>\n",
        "      <td> yes</td>\n",
        "      <td>  no</td>\n",
        "      <td>  0</td>\n",
        "      <td> 299.4</td>\n",
        "      <td>  71</td>\n",
        "      <td> 50.90</td>\n",
        "      <td>...</td>\n",
        "      <td>  88</td>\n",
        "      <td>  5.26</td>\n",
        "      <td> 196.9</td>\n",
        "      <td>  89</td>\n",
        "      <td>  8.86</td>\n",
        "      <td>  6.6</td>\n",
        "      <td> 7</td>\n",
        "      <td> 1.78</td>\n",
        "      <td> 2</td>\n",
        "      <td> False.</td>\n",
        "    </tr>\n",
        "    <tr>\n",
        "      <th>4</th>\n",
        "      <td> OK</td>\n",
        "      <td>  75</td>\n",
        "      <td> 415</td>\n",
        "      <td> 330-6626</td>\n",
        "      <td> yes</td>\n",
        "      <td>  no</td>\n",
        "      <td>  0</td>\n",
        "      <td> 166.7</td>\n",
        "      <td> 113</td>\n",
        "      <td> 28.34</td>\n",
        "      <td>...</td>\n",
        "      <td> 122</td>\n",
        "      <td> 12.61</td>\n",
        "      <td> 186.9</td>\n",
        "      <td> 121</td>\n",
        "      <td>  8.41</td>\n",
        "      <td> 10.1</td>\n",
        "      <td> 3</td>\n",
        "      <td> 2.73</td>\n",
        "      <td> 3</td>\n",
        "      <td> False.</td>\n",
        "    </tr>\n",
        "  </tbody>\n",
        "</table>\n",
        "<p>5 rows \u00d7 21 columns</p>\n",
        "</div>"
       ],
       "metadata": {},
       "output_type": "pyout",
       "prompt_number": 282,
       "text": [
        "  State  Account Length  Area Code     Phone Int'l Plan VMail Plan  \\\n",
        "0    KS             128        415  382-4657         no        yes   \n",
        "1    OH             107        415  371-7191         no        yes   \n",
        "2    NJ             137        415  358-1921         no         no   \n",
        "3    OH              84        408  375-9999        yes         no   \n",
        "4    OK              75        415  330-6626        yes         no   \n",
        "\n",
        "   VMail Message  Day Mins  Day Calls  Day Charge   ...    Eve Calls  \\\n",
        "0             25     265.1        110       45.07   ...           99   \n",
        "1             26     161.6        123       27.47   ...          103   \n",
        "2              0     243.4        114       41.38   ...          110   \n",
        "3              0     299.4         71       50.90   ...           88   \n",
        "4              0     166.7        113       28.34   ...          122   \n",
        "\n",
        "   Eve Charge  Night Mins  Night Calls  Night Charge  Intl Mins  Intl Calls  \\\n",
        "0       16.78       244.7           91         11.01       10.0           3   \n",
        "1       16.62       254.4          103         11.45       13.7           3   \n",
        "2       10.30       162.6          104          7.32       12.2           5   \n",
        "3        5.26       196.9           89          8.86        6.6           7   \n",
        "4       12.61       186.9          121          8.41       10.1           3   \n",
        "\n",
        "   Intl Charge  CustServ Calls  Churn?  \n",
        "0         2.70               1  False.  \n",
        "1         3.70               1  False.  \n",
        "2         3.29               0  False.  \n",
        "3         1.78               2  False.  \n",
        "4         2.73               3  False.  \n",
        "\n",
        "[5 rows x 21 columns]"
       ]
      }
     ],
     "prompt_number": 282
    },
    {
     "cell_type": "code",
     "collapsed": false,
     "input": [
      "Xch=XOrig\n",
      "Xch=Xch.drop(\"Area Code\",1)      # too specific\n",
      "Xch[\"Churn?\"]=np.where(Xch[\"Churn?\"]==\"True.\",1,0)\n",
      "y=Xch[\"Churn?\"]\n",
      "Xch[\"Int'l Plan\"]=np.where(Xch[\"Int'l Plan\"]=='yes',1,0)\n",
      "Xch[\"VMail Plan\"]=np.where(Xch[\"VMail Plan\"]=='yes',1,0)\n",
      "Xch=Xch.drop(\"State\",1)      # did not add anything to model and made it large\n",
      "Xch=Xch.drop(\"Phone\",1)      # too specific\n",
      "\n",
      "# scale and center\n",
      "X=Xch.as_matrix().astype(np.float)\n",
      "xform = preprocessing.StandardScaler()\n",
      "X=xform.fit_transform(X)\n"
     ],
     "language": "python",
     "metadata": {},
     "outputs": [],
     "prompt_number": 284
    },
    {
     "cell_type": "markdown",
     "metadata": {},
     "source": [
      "Let's see if there are any obvious correlates that we should also drop."
     ]
    },
    {
     "cell_type": "code",
     "collapsed": false,
     "input": [
      "import seaborn as sns\n",
      "sns.corrplot(X,annot=False,names=Xch.columns,diag_names=False)"
     ],
     "language": "python",
     "metadata": {},
     "outputs": [
      {
       "metadata": {},
       "output_type": "pyout",
       "prompt_number": 285,
       "text": [
        "<matplotlib.axes._subplots.AxesSubplot at 0x14c2edc10>"
       ]
      },
      {
       "metadata": {},
       "output_type": "display_data",
       "png": "[encoded data removed]",
       "text": [
        "<matplotlib.figure.Figure at 0x15ed8d410>"
       ]
      }
     ],
     "prompt_number": 285
    },
    {
     "cell_type": "markdown",
     "metadata": {},
     "source": [
      "So we have some duplicate data, the mins and charges fields are identical information. Let's drop them. "
     ]
    },
    {
     "cell_type": "code",
     "collapsed": false,
     "input": [
      "Xch=Xch.drop(\"Day Mins\",1)      # did not add anything to model and made it large\n",
      "Xch=Xch.drop(\"Eve Mins\",1)      # too specific\n",
      "Xch=Xch.drop(\"Night Mins\",1)      # too specific\n",
      "Xch=Xch.drop(\"Intl Mins\",1)      # too specific\n",
      "Xch=Xch.drop(\"VMail Message\",1)      # too specific\n",
      "# scale and center again\n",
      "X=Xch.as_matrix().astype(np.float)\n",
      "xform = preprocessing.StandardScaler()\n",
      "X=xform.fit_transform(X)\n",
      "\n",
      "sns.corrplot(X,annot=False,names=Xch.columns,diag_names=False)"
     ],
     "language": "python",
     "metadata": {},
     "outputs": [
      {
       "metadata": {},
       "output_type": "pyout",
       "prompt_number": 286,
       "text": [
        "<matplotlib.axes._subplots.AxesSubplot at 0x15346b590>"
       ]
      },
      {
       "metadata": {},
       "output_type": "display_data",
       "png": "[encoded data removed]",
       "text": [
        "<matplotlib.figure.Figure at 0x15f3ea510>"
       ]
      }
     ],
     "prompt_number": 286
    },
    {
     "cell_type": "markdown",
     "metadata": {},
     "source": [
      "That's better. Let's keep the correlation strength of the output var (Churn) to compare with other methods. And let's move it to Y."
     ]
    },
    {
     "cell_type": "code",
     "collapsed": false,
     "input": [
      "f_corr = np.array(Xch.corr()[\"Churn?\"].abs())[0:-1]   # drop last element\n",
      "X=X[:,0:-1]"
     ],
     "language": "python",
     "metadata": {},
     "outputs": [],
     "prompt_number": 287
    },
    {
     "cell_type": "code",
     "collapsed": false,
     "input": [
      "names=Xch.columns[0:-1]\n",
      "names"
     ],
     "language": "python",
     "metadata": {},
     "outputs": [
      {
       "metadata": {},
       "output_type": "pyout",
       "prompt_number": 289,
       "text": [
        "Index(['Account Length', 'Int'l Plan', 'VMail Plan', 'Day Calls', 'Day Charge', 'Eve Calls', 'Eve Charge', 'Night Calls', 'Night Charge', 'Intl Calls', 'Intl Charge', 'CustServ Calls'], dtype='object')"
       ]
      }
     ],
     "prompt_number": 289
    },
    {
     "cell_type": "heading",
     "level": 3,
     "metadata": {},
     "source": [
      "1. Logistic regression with L1 (LASSO)"
     ]
    },
    {
     "cell_type": "markdown",
     "metadata": {},
     "source": [
      "Ok, data prepped, Let's just throw logistic regression at it and look at the coefficients. Since we scaled all the data, the coefficient magnitude acutally means something. We can use the L1 penalization parameter \"C\" to force it into as sparse a solution as we want.\n"
     ]
    },
    {
     "cell_type": "code",
     "collapsed": false,
     "input": [
      "f1=linear_model.LogisticRegression(penalty='l1', C=0.01)\n",
      "f1.fit(X,y);\n",
      "f1_imp=abs(f1.coef_)[0]"
     ],
     "language": "python",
     "metadata": {},
     "outputs": [],
     "prompt_number": 295
    },
    {
     "cell_type": "heading",
     "level": 3,
     "metadata": {},
     "source": [
      "2. Random Forest Importance Measure"
     ]
    },
    {
     "cell_type": "markdown",
     "metadata": {},
     "source": [
      "We can use random forest to compute importances. It works like this, roughly.\n",
      "During the algo, random forest creates a series of small decision trees, each only using subset of predictors.\n",
      "\n",
      "The algo holds out some data from the formation of each tree. The raemainder is classified through the tree and an accuracy score is computed. Here's the clever bit. For each predictor that made it into a given tree, the accuracy score is recomputed **with that predictor's values ramdomly permuted**. The original score is subtracted from the permuted data version. If the feature was indeed informative it should on average add accurace.\n",
      "\n",
      "Then we sum up, over all trees, how much cumulative improvement each variable did. That's our feature importance."
     ]
    },
    {
     "cell_type": "code",
     "collapsed": false,
     "input": [
      "f2=tree.ExtraTreeClassifier()\n",
      "f2.fit(X,y)\n",
      "f2_imp=f2.feature_importances_"
     ],
     "language": "python",
     "metadata": {},
     "outputs": [],
     "prompt_number": 296
    },
    {
     "cell_type": "markdown",
     "metadata": {},
     "source": [
      "Let's take the top 6, rank them and compare."
     ]
    },
    {
     "cell_type": "code",
     "collapsed": false,
     "input": [
      "import matplotlib.pyplot as plt\n",
      "\n",
      "# let's rank the top 6 attributes of each.\n",
      "f_ncorr=f_corr.argsort()-5\n",
      "f_ncorr[f_ncorr<1]=0\n",
      "\n",
      "f1_nimp=f1_imp.argsort()-5\n",
      "f1_nimp[f1_nimp<1]=0\n",
      "f2_nimp=f2_imp.argsort()-5\n",
      "f2_nimp[f2_nimp<1]=0\n",
      "\n",
      "plt.figure(figsize=(10,10), dpi=80)\n",
      "\n",
      "idx=np.arange(len(f1_imp))*2.5\n",
      "plt.barh(idx+0.6,list(f_ncorr),height=0.5,color='r', label=\"Correlation with y\")\n",
      "plt.barh(idx-0.0,list(f1_nimp),height=0.5,color='g', label=\"L1 Logit\")\n",
      "plt.barh(idx-0.6,list(f2_nimp),height=0.5,color='b', label=\"Rand Forest\")\n",
      "plt.legend(loc='upper right')\n",
      "plt.yticks(idx,list(names));"
     ],
     "language": "python",
     "metadata": {},
     "outputs": [
      {
       "metadata": {},
       "output_type": "display_data",
       "png": "[encoded data removed]",
       "text": [
        "<matplotlib.figure.Figure at 0x1533f3150>"
       ]
      }
     ],
     "prompt_number": 362
    },
    {
     "cell_type": "markdown",
     "metadata": {},
     "source": [
      "What conclusins can we draw from this ? First, people look cost sensitive more than loyal. Account length is nowhere near informative as usage counts. Finally, those who make international calls are far more likely to switch. Perhaps the costs are so much higher compared to domenstic long distance rates that they can save significant money by switching."
     ]
    },
    {
     "cell_type": "markdown",
     "metadata": {},
     "source": [
      "OK. Time to shake our money maker. Let's predict churn. I'm going to only use the top 6 predictors for each. First let's see if we have really unbalanced response classes. I should probably have checked this earlier."
     ]
    },
    {
     "cell_type": "code",
     "collapsed": false,
     "input": [
      "from scipy.stats import itemfreq\n",
      "itemfreq(y)"
     ],
     "language": "python",
     "metadata": {},
     "outputs": [
      {
       "metadata": {},
       "output_type": "pyout",
       "prompt_number": 324,
       "text": [
        "array([[   0, 2850],\n",
        "       [   1,  483]])"
       ]
      }
     ],
     "prompt_number": 324
    },
    {
     "cell_type": "markdown",
     "metadata": {},
     "source": [
      "Yeah a bit unbalanced. Given that we'll use stratified 10 fold cross validation."
     ]
    },
    {
     "cell_type": "code",
     "collapsed": false,
     "input": [
      "X_lasso=X[:,f1_nimp>0]   # only use what lasso wanted\n",
      "X_rf   =X[:,f2_nimp>0]   # only use what rf wanted\n",
      "y_rf=np.zeros(y.shape)\n",
      "y_lasso=np.zeros(y.shape)"
     ],
     "language": "python",
     "metadata": {},
     "outputs": [],
     "prompt_number": 363
    },
    {
     "cell_type": "code",
     "collapsed": false,
     "input": [
      "from sklearn import cross_validation,metrics\n",
      "cv=cross_validation.StratifiedKFold(y,n_folds=10)\n",
      "\n",
      "for X_train,X_test in cv:\n",
      "    f_lasso=linear_model.LogisticRegression(penalty='l1',C=0.1)\n",
      "    f_lasso.fit(X_lasso[X_train],y[X_train])\n",
      "    y_lasso[X_test]=f_lasso.predict(X_lasso[X_test])\n",
      "    \n",
      "    f_rf   =tree.ExtraTreeClassifier()\n",
      "    f_rf.fit(X_rf[X_train],y[X_train])\n",
      "    y_rf[X_test]=f_rf.predict(X_rf[X_test])\n",
      "    \n",
      "    \n",
      "print(\"LASSO accuracy with 6 vars: \" + str(metrics.accuracy_score(y,y_lasso)))\n",
      "print(metrics.confusion_matrix(y,y_lasso)/y.shape)\n",
      "\n",
      "print(\"Random Forest accuracy with 6 vars: \" + str(metrics.accuracy_score(y,y_rf)))\n",
      "print(metrics.confusion_matrix(y,y_rf)/y.shape)"
     ],
     "language": "python",
     "metadata": {},
     "outputs": [
      {
       "output_type": "stream",
       "stream": "stdout",
       "text": [
        "LASSO accuracy with 6 vars: 0.85598559856\n",
        "[[ 0.85508551  0.        ]\n",
        " [ 0.1440144   0.00090009]]\n",
        "Random Forest accuracy with 6 vars: 0.791479147915\n",
        "[[ 0.74617462  0.10891089]\n",
        " [ 0.09960996  0.04530453]]\n"
       ]
      }
     ],
     "prompt_number": 365
    },
    {
     "cell_type": "markdown",
     "metadata": {},
     "source": [
      "LASSO did much better with limited variables. Generally random forest does better in most cases, but it's dataset dependent."
     ]
    }
   ],
   "metadata": {}
  }
 ]
}