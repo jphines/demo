{
 "metadata": {
  "name": "",
  "signature": "sha256:15e4ae7776656801f6f33b4f1ec2c58d1bafa21b41ed9bade198dabd7360e723"
 },
 "nbformat": 3,
 "nbformat_minor": 0,
 "worksheets": [
  {
   "cells": [
    {
     "cell_type": "heading",
     "level": 1,
     "metadata": {},
     "source": [
      "Is there evidence for demand increased demand for urban housing among younger dwellers ?"
     ]
    },
    {
     "cell_type": "markdown",
     "metadata": {},
     "source": [
      "*An exercise in confirmation bias*"
     ]
    },
    {
     "cell_type": "markdown",
     "metadata": {},
     "source": [
      "Before going on with this I have to state I have a confirmation bias here. I hate automobile centric communities, love mass transit, and medium density European style walkable communities. I am admitting to evidence hunting here as I look for edividece that more and more people are like me, in North America. However I think hunting for supporting data is even more dangerous when you don't admit to yourself you're doing it. \n",
      "\n",
      "Overcoming confirmation bias when you haven't even chosed a data set, however, must be a common issue so I'm going to go through the exercise anyway.\n",
      "\n",
      "Let me clarify the question. Is the detached suburban family home on the decline ? There has been press and punditry recently on 'new urbanism'. \n",
      "\n",
      "  * younger people are buying homes at lower rates as a result of the recession and high student debt\n",
      "  * supply of 'urban' housing lags demand\n",
      "  * much transportation infrastructure currently keeps the status quo in check\n",
      "  * low priced suburban housing stock is currently underpriced as a result of foreclosure and overbuilding, creating an economic inscentive to buy a home one might not neccesarily prefer. True demand may be underestimated\n",
      "  * there may be a correlation between student debt size and urban demand. If those who prefer urban, denser settings work in industries with depressed wages as opposted to previous eras, true demand may not be seen\n",
      "  \n",
      "All that said, what would we still expect to see ?\n",
      "\n",
      "Let's imagine we have full demographic and home location information for every person in america. If the trend I'm suggesting is true, then we might expect to see it reflected in a flight from urban centers as people reached chi "
     ]
    },
    {
     "cell_type": "code",
     "collapsed": false,
     "input": [
      "import pandas as pd\n",
      "import zipfile\n",
      "with zipfile.ZipFile(\"/Users/nursa/Downloads/AHS_1974_Metro_PUF_CSV.zip\") as z:\n",
      "    A=pd.read_csv(z.open('ahs74msa.csv'))\n"
     ],
     "language": "python",
     "metadata": {},
     "outputs": [],
     "prompt_number": 43
    },
    {
     "cell_type": "code",
     "collapsed": false,
     "input": [
      "A.shape"
     ],
     "language": "python",
     "metadata": {},
     "outputs": [
      {
       "metadata": {},
       "output_type": "pyout",
       "prompt_number": 40,
       "text": [
        "(120170, 276)"
       ]
      }
     ],
     "prompt_number": 40
    },
    {
     "cell_type": "code",
     "collapsed": false,
     "input": [],
     "language": "python",
     "metadata": {},
     "outputs": []
    }
   ],
   "metadata": {}
  }
 ]
}